{
 "cells": [
  {
   "cell_type": "code",
   "execution_count": 2,
   "metadata": {},
   "outputs": [],
   "source": [
    "''' Training Frustum PointNets.\n",
    "\n",
    "Author: Charles R. Qi\n",
    "Date: September 2017\n",
    "'''\n",
    "from __future__ import print_function\n",
    "\n",
    "import os\n",
    "import sys\n",
    "import argparse\n",
    "import importlib\n",
    "import numpy as np\n",
    "import tensorflow as tf\n",
    "from datetime import datetime\n",
    "BASE_DIR = os.path.abspath('') # train/\n",
    "ROOT_DIR = os.path.dirname(BASE_DIR) # frustum-pointnets/\n",
    "sys.path.append(BASE_DIR)\n",
    "sys.path.append(os.path.join(ROOT_DIR, 'models')) # Allows directly importing models\n",
    "import provider\n",
    "from train_util import get_batch\n"
   ]
  },
  {
   "cell_type": "code",
   "execution_count": 5,
   "metadata": {},
   "outputs": [],
   "source": [
    "# Set training configurations\n",
    "EPOCH_CNT = 0\n",
    "BATCH_SIZE = 32\n",
    "NUM_POINT = 128\n",
    "MAX_EPOCH = 201\n",
    "BASE_LEARNING_RATE = 0.001\n",
    "GPU_INDEX = 0\n",
    "MOMENTUM = 0.9\n",
    "OPTIMIZER = 'adam'\n",
    "DECAY_STEP = 800000\n",
    "DECAY_RATE = 0.5\n",
    "NUM_CHANNEL = 4 # point feature channel\n",
    "NUM_CLASSES = 2 # segmentation has two classes\n",
    "\n",
    "model_name = 'frustum_pointnets_lite'\n",
    "MODEL = importlib.import_module(model_name) # import network module\n",
    "MODEL_FILE = os.path.join(ROOT_DIR, 'models', model_name+'.py')\n",
    "LOG_DIR = os.path.join(ROOT_DIR, 'train', 'log_lite')\n",
    "if not os.path.exists(LOG_DIR): os.mkdir(LOG_DIR)\n",
    "os.system('cp %s %s' % (MODEL_FILE, LOG_DIR)) # bkp of model def\n",
    "os.system('cp %s %s' % (os.path.join(BASE_DIR, 'train.py'), LOG_DIR))\n",
    "LOG_FOUT = open(os.path.join(LOG_DIR, 'log_train.txt'), 'w')\n",
    "LOG_FOUT.write('BATCH_SIZE = {}\\n'.format(BATCH_SIZE))\n",
    "LOG_FOUT.write('NUM_POINT = {}\\n'.format(NUM_POINT))\n",
    "LOG_FOUT.write('MAX_EPOCH = {}\\n'.format(MAX_EPOCH))\n",
    "LOG_FOUT.write('BASE_LEARNING_RATE = {}\\n'.format(BASE_LEARNING_RATE))\n",
    "LOG_FOUT.write('GPU_INDEX = {}\\n'.format(GPU_INDEX))\n",
    "LOG_FOUT.write('MOMENTUM = {}\\n'.format(MOMENTUM))\n",
    "LOG_FOUT.write('OPTIMIZER = {}\\n'.format(OPTIMIZER))\n",
    "LOG_FOUT.write('DECAY_STEP = {}\\n'.format(DECAY_STEP))\n",
    "LOG_FOUT.write('DECAY_RATE = {}\\n'.format(DECAY_RATE))\n",
    "LOG_FOUT.write('NUM_CHANNEL = {}\\n'.format(NUM_CHANNEL))\n",
    "\n",
    "BN_INIT_DECAY = 0.5\n",
    "BN_DECAY_DECAY_RATE = 0.5\n",
    "BN_DECAY_DECAY_STEP = float(DECAY_STEP)\n",
    "BN_DECAY_CLIP = 0.99"
   ]
  },
  {
   "cell_type": "code",
   "execution_count": 7,
   "metadata": {},
   "outputs": [],
   "source": [
    "RUN_MODES = ['KITTI', 'NUSC']\n",
    "RUN_SEL = 1 # select which dataset to run <=======\n",
    "if RUN_MODES[RUN_SEL]=='KITTI':\n",
    "    # Load Frustum Datasets. Use default data paths.\n",
    "    TRAIN_DATASET = provider.FrustumDataset(npoints=NUM_POINT, split='train',\n",
    "        rotate_to_center=True, random_flip=True, random_shift=True, one_hot=True)\n",
    "    TEST_DATASET = provider.FrustumDataset(npoints=NUM_POINT, split='val',\n",
    "        rotate_to_center=True, one_hot=True)\n",
    "else:\n",
    "    train_file = os.path.join(ROOT_DIR, 'nuscenes', 'nusc_carpedtruck_train.pickle')\n",
    "    val_file = os.path.join(ROOT_DIR, 'nuscenes', 'nusc_carpedtruck_val.pickle')\n",
    "    TRAIN_DATASET = provider.FrustumDataset(npoints=NUM_POINT, split='train',\n",
    "        rotate_to_center=True, overwritten_data_path=train_file, random_flip=True, random_shift=True, one_hot=True)\n",
    "    TEST_DATASET = provider.FrustumDataset(npoints=NUM_POINT, split='val',\n",
    "        rotate_to_center=True, overwritten_data_path=val_file, one_hot=True)"
   ]
  },
  {
   "cell_type": "code",
   "execution_count": null,
   "metadata": {},
   "outputs": [],
   "source": []
  }
 ],
 "metadata": {
  "kernelspec": {
   "display_name": "Python 2",
   "language": "python",
   "name": "python2"
  },
  "language_info": {
   "codemirror_mode": {
    "name": "ipython",
    "version": 2
   },
   "file_extension": ".py",
   "mimetype": "text/x-python",
   "name": "python",
   "nbconvert_exporter": "python",
   "pygments_lexer": "ipython2",
   "version": "2.7.12"
  }
 },
 "nbformat": 4,
 "nbformat_minor": 2
}
